{
 "cells": [
  {
   "cell_type": "code",
   "execution_count": 18,
   "metadata": {},
   "outputs": [],
   "source": [
    "# Import Modules\n",
    "import csv\n",
    "import os"
   ]
  },
  {
   "cell_type": "code",
   "execution_count": 47,
   "metadata": {},
   "outputs": [],
   "source": [
    "# Set file path to variable (for any OS using OS module)\n",
    "file = os.path.join('PyBank', 'Resources', 'budget_data.csv')\n",
    "\n",
    "# Create Month and PNL lists\n",
    "month_list = []\n",
    "pnl_list = []\n",
    "\n",
    "# Open file to variable\n",
    "with open(file, 'r', newline='') as budgetfile:\n",
    "    \n",
    "    # Create reader object using CSV module\n",
    "    budget = csv.reader(budgetfile, delimiter = ',')\n",
    "    \n",
    "    # Store header in variable\n",
    "    budgetheader = next(budget)\n",
    "    \n",
    "    # Iterate through reader object to populate Month and PNL lists\n",
    "    for row in budget:\n",
    "        if row[0] not in month_list:\n",
    "            month_list.append(row[0])\n",
    "        pnl_list.append(int(row[1]))\n",
    "\n",
    "# Calculate average change\n",
    "avg_chg = round(sum(pnl_list) / len(pnl_list), 2)"
   ]
  },
  {
   "cell_type": "code",
   "execution_count": 48,
   "metadata": {},
   "outputs": [],
   "source": [
    "# Iterate through PNL list to find and store min and max values, and use index to store corresponding months\n",
    "for i in range(len(pnl_list)):\n",
    "    if pnl_list[i] == min(pnl_list):\n",
    "        min_pnl = pnl_list[i]\n",
    "        min_month = month_list[i]\n",
    "    elif pnl_list[i] == max(pnl_list):\n",
    "        max_pnl = pnl_list[i]\n",
    "        max_month = month_list[i]"
   ]
  },
  {
   "cell_type": "code",
   "execution_count": 52,
   "metadata": {},
   "outputs": [
    {
     "name": "stdout",
     "output_type": "stream",
     "text": [
      "\n",
      "Financial Analysis\n",
      "----------------------------\n",
      "Total Months: 86\n",
      "Total: $38382578\n",
      "Average Change: $446309.05\n",
      "Greatest Increase in Profits: Feb-2012 ($1170593)\n",
      "Greatest Decrease in Profits: Sep-2013 ($-1196225)\n",
      "\n"
     ]
    }
   ],
   "source": [
    "# Print analysis\n",
    "\n",
    "result = f'''\n",
    "Financial Analysis\n",
    "----------------------------\n",
    "Total Months: {len(month_list)}\n",
    "Total: ${sum(pnl_list)}\n",
    "Average Change: ${avg_chg}\n",
    "Greatest Increase in Profits: {max_month} (${max_pnl})\n",
    "Greatest Decrease in Profits: {min_month} (${min_pnl})\n",
    "'''\n",
    "print(result)"
   ]
  },
  {
   "cell_type": "code",
   "execution_count": 57,
   "metadata": {},
   "outputs": [],
   "source": [
    "with open('PyBank Output.txt', 'w', newline='') as output:\n",
    "    output.write(result)"
   ]
  }
 ],
 "metadata": {
  "kernelspec": {
   "display_name": "Python 3",
   "language": "python",
   "name": "python3"
  },
  "language_info": {
   "codemirror_mode": {
    "name": "ipython",
    "version": 3
   },
   "file_extension": ".py",
   "mimetype": "text/x-python",
   "name": "python",
   "nbconvert_exporter": "python",
   "pygments_lexer": "ipython3",
   "version": "3.7.5"
  }
 },
 "nbformat": 4,
 "nbformat_minor": 2
}
