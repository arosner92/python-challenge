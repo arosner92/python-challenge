{
 "cells": [
  {
   "cell_type": "code",
   "execution_count": 1,
   "metadata": {},
   "outputs": [],
   "source": [
    "# Import Modules\n",
    "import csv\n",
    "import os"
   ]
  },
  {
   "cell_type": "code",
   "execution_count": 3,
   "metadata": {},
   "outputs": [],
   "source": [
    "# Store file path in variable\n",
    "file = os.path.join('PyPoll', 'Resources', 'election_data.csv')\n",
    "\n",
    "# Create empty variables\n",
    "voterids = []\n",
    "cand_count = {}\n",
    "\n",
    "# Read file into variable\n",
    "with open(file, 'r', newline = '') as election_file:\n",
    "    election_reader = csv.reader(election_file)\n",
    "    \n",
    "    # Store header in variable\n",
    "    election_header = next(election_reader)\n",
    "    \n",
    "    # Iterate thru reader object to separate values into corresponding lists, and calculate count for each candidate\n",
    "    for row in election_reader:\n",
    "        voterids.append(row[0])\n",
    "        if row[2] not in cand_count:\n",
    "            cand_count[row[2]] = 0\n",
    "        if row[2] == \"Khan\":\n",
    "            cand_count[\"Khan\"] += 1\n",
    "        elif row[2] == \"Correy\":\n",
    "            cand_count[\"Correy\"] += 1\n",
    "        elif row[2] == \"Li\":\n",
    "            cand_count[\"Li\"] += 1\n",
    "        elif row[2] == \"O'Tooley\":\n",
    "            cand_count[\"O'Tooley\"] += 1\n",
    "            \n",
    "# Calculate total number of votes using length of voter ID list\n",
    "total_votes = len(voterids)"
   ]
  },
  {
   "cell_type": "code",
   "execution_count": 4,
   "metadata": {},
   "outputs": [],
   "source": [
    "# Calculate vote percentage of total for each candidate\n",
    "khan_perc = round((cand_count[\"Khan\"] / len(voterids))*100, 3) \n",
    "correy_perc = round((cand_count[\"Correy\"] / len(voterids))*100, 3)\n",
    "li_perc = round((cand_count[\"Li\"] / len(voterids))*100, 3)\n",
    "otool_perc = round((cand_count[\"O'Tooley\"] / len(voterids))*100, 3)"
   ]
  },
  {
   "cell_type": "code",
   "execution_count": 5,
   "metadata": {},
   "outputs": [],
   "source": [
    "# Store key:value pairs in separate lists\n",
    "keys = list(cand_count.keys())\n",
    "values = list(cand_count.values())\n",
    "\n",
    "# Find winner by iterating through values list and using index to define winner\n",
    "for i in range(len(cand_count)):\n",
    "    if values[i] == max(values):\n",
    "        winner = keys[i]"
   ]
  },
  {
   "cell_type": "code",
   "execution_count": 9,
   "metadata": {},
   "outputs": [
    {
     "name": "stdout",
     "output_type": "stream",
     "text": [
      "\n",
      "Election Results\n",
      "-------------------------\n",
      "Total Votes: 3521001\n",
      "-------------------------\n",
      "Khan: 63.0% (2218231)\n",
      "Correy: 20.0% (704200)\n",
      "Li: 14.0% (492940)\n",
      "O'Tooley: 3.0% (105630)\n",
      "-------------------------\n",
      "Winner: Khan\n",
      "-------------------------\n",
      "\n"
     ]
    }
   ],
   "source": [
    "# Print result\n",
    "result = f'''\n",
    "Election Results\n",
    "-------------------------\n",
    "Total Votes: {total_votes}\n",
    "-------------------------\n",
    "Khan: {khan_perc}% ({cand_count[\"Khan\"]})\n",
    "Correy: {correy_perc}% ({cand_count[\"Correy\"]})\n",
    "Li: {li_perc}% ({cand_count[\"Li\"]})\n",
    "O'Tooley: {otool_perc}% ({cand_count[\"O'Tooley\"]})\n",
    "-------------------------\n",
    "Winner: {winner}\n",
    "-------------------------\n",
    "'''\n",
    "print(result)"
   ]
  },
  {
   "cell_type": "code",
   "execution_count": 11,
   "metadata": {},
   "outputs": [],
   "source": [
    "# Create new file for output and write result\n",
    "with open(\"PyPoll_output.txt\", 'w') as output:\n",
    "    output.write(result)"
   ]
  }
 ],
 "metadata": {
  "kernelspec": {
   "display_name": "Python 3",
   "language": "python",
   "name": "python3"
  },
  "language_info": {
   "codemirror_mode": {
    "name": "ipython",
    "version": 3
   },
   "file_extension": ".py",
   "mimetype": "text/x-python",
   "name": "python",
   "nbconvert_exporter": "python",
   "pygments_lexer": "ipython3",
   "version": "3.7.5"
  }
 },
 "nbformat": 4,
 "nbformat_minor": 2
}
